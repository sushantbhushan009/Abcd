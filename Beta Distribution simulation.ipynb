{
 "cells": [
  {
   "cell_type": "code",
   "execution_count": 3,
   "id": "c2415897",
   "metadata": {},
   "outputs": [],
   "source": [
    "import numpy as np\n",
    "import matplotlib.pyplot as plt\n",
    "import timeit\n",
    "import math\n",
    "import scipy"
   ]
  },
  {
   "attachments": {},
   "cell_type": "markdown",
   "id": "e12163d7",
   "metadata": {},
   "source": []
  },
  {
   "attachments": {},
   "cell_type": "markdown",
   "id": "e2a334b9",
   "metadata": {},
   "source": [
    "## When alpha and beta are integers"
   ]
  },
  {
   "cell_type": "code",
   "execution_count": 37,
   "id": "1c750566",
   "metadata": {},
   "outputs": [
    {
     "data": {
      "image/png": "[encoded data removed]",
      "text/plain": [
       "<Figure size 432x288 with 1 Axes>"
      ]
     },
     "metadata": {
      "needs_background": "light"
     },
     "output_type": "display_data"
    }
   ],
   "source": [
    "# beta = 2, alpha = 3\n",
    "f = list()\n",
    "for i in range(0,50000):\n",
    "    x = np.random.rand(4)\n",
    "    x = np.sort(x)\n",
    "    f.append(x[2])\n",
    "plt.hist(f, bins=50)\n",
    "plt.show()"
   ]
  },
  {
   "cell_type": "code",
   "execution_count": 8,
   "id": "d1ca6c0c",
   "metadata": {},
   "outputs": [],
   "source": [
    "def beta(m, n, z):\n",
    "    f = list()\n",
    "    a = m+n-1\n",
    "    for i in range(0,z):\n",
    "        x = np.random.rand(a)\n",
    "        x = np.sort(x)\n",
    "        f.append(x[m])\n",
    "    return(f)"
   ]
  },
  {
   "cell_type": "code",
   "execution_count": 9,
   "id": "ccf9dda1",
   "metadata": {},
   "outputs": [
    {
     "data": {
      "image/png": "[encoded data removed]",
      "text/plain": [
       "<Figure size 432x288 with 1 Axes>"
      ]
     },
     "metadata": {
      "needs_background": "light"
     },
     "output_type": "display_data"
    }
   ],
   "source": [
    "f = beta(3,4, 50000)\n",
    "plt.hist(f, bins=50)\n",
    "plt.show()"
   ]
  },
  {
   "attachments": {},
   "cell_type": "markdown",
   "id": "634b26e2",
   "metadata": {},
   "source": [
    "### Comparing timming"
   ]
  },
  {
   "cell_type": "code",
   "execution_count": 13,
   "id": "9f8cbd04",
   "metadata": {},
   "outputs": [
    {
     "name": "stdout",
     "output_type": "stream",
     "text": [
      "Time taken by simulation code: 1.9939847000000555\n",
      "Time taken by python pakage: 0.10707520000005388\n"
     ]
    }
   ],
   "source": [
    "#Timming the simulation code with beta = 2, alpha = 3\n",
    "a = \"import numpy as np\"\n",
    "b = '''f = list()\n",
    "for i in range(0,1000):\n",
    "    x = np.random.rand(4)\n",
    "    x = np.sort(x)\n",
    "    f.append(x[2]) '''\n",
    "time = timeit.timeit(setup = a,\n",
    "                     stmt = b,\n",
    "                     number = 1000)\n",
    "print('Time taken by simulation code:', time)\n",
    "\n",
    "#Timming the python pakage with beta = 2, alpha = 3\n",
    "a = \"from scipy.stats import beta\"\n",
    "b = '''f = beta.rvs(3,2, size=1000) '''\n",
    "time = timeit.timeit(setup = a,\n",
    "                     stmt = b,\n",
    "                     number = 1000)\n",
    "print('Time taken by python pakage:', time)"
   ]
  },
  {
   "cell_type": "code",
   "execution_count": null,
   "id": "2172d0cb",
   "metadata": {},
   "outputs": [],
   "source": []
  },
  {
   "attachments": {},
   "cell_type": "markdown",
   "id": "795aa260",
   "metadata": {},
   "source": [
    "## Simple case where either m = 1, or n = 1"
   ]
  },
  {
   "cell_type": "code",
   "execution_count": 23,
   "id": "c953d0cb",
   "metadata": {},
   "outputs": [],
   "source": [
    "#When beta =1\n",
    "def betam1(a, z):\n",
    "    f= list()\n",
    "    u = np.random.rand(z)\n",
    "    for i in range(0,z):\n",
    "        f.append(u[i]**(1/a))\n",
    "    return(f)\n",
    "\n",
    "#when Alpha=1\n",
    "def betan1(b, z):\n",
    "    f= list()\n",
    "    u = np.random.rand(z)\n",
    "    for i in range(0,z):\n",
    "        f.append(1- u[i]**(1/b))\n",
    "    return(f)\n",
    "\n",
    "#code for generating random numbers following beta distribution when either alpha or beta is 1\n",
    "def beta1(a,b,z):\n",
    "    f= list()\n",
    "    if a ==1 and b != 1:\n",
    "        f = betan1(b,z)\n",
    "        return(f)\n",
    "    if a!=1 and b == 1:\n",
    "        f = betam1(a,z)\n",
    "        return(f)\n",
    "    else:\n",
    "        print(\"Either alpha or beta value should be 1\")\n",
    "        return"
   ]
  },
  {
   "cell_type": "code",
   "execution_count": 24,
   "id": "802cd76f",
   "metadata": {},
   "outputs": [
    {
     "data": {
      "image/png": "[encoded data removed]",
      "text/plain": [
       "<Figure size 432x288 with 1 Axes>"
      ]
     },
     "metadata": {
      "needs_background": "light"
     },
     "output_type": "display_data"
    }
   ],
   "source": [
    "f = beta1(1,1.5, 5000)\n",
    "plt.hist(f, bins=50)\n",
    "plt.show()"
   ]
  },
  {
   "cell_type": "code",
   "execution_count": 25,
   "id": "8783682e",
   "metadata": {},
   "outputs": [
    {
     "data": {
      "image/png": "[encoded data removed]",
      "text/plain": [
       "<Figure size 432x288 with 1 Axes>"
      ]
     },
     "metadata": {
      "needs_background": "light"
     },
     "output_type": "display_data"
    }
   ],
   "source": [
    "f = beta1(1.5,1, 5000)\n",
    "plt.hist(f, bins=50)\n",
    "plt.show()"
   ]
  },
  {
   "cell_type": "code",
   "execution_count": 40,
   "id": "a0e44343",
   "metadata": {},
   "outputs": [
    {
     "name": "stdout",
     "output_type": "stream",
     "text": [
      "Either alpha or beta value should be 1\n"
     ]
    }
   ],
   "source": [
    "f = beta1(1,1, 5000)"
   ]
  },
  {
   "attachments": {},
   "cell_type": "markdown",
   "id": "c7f62733",
   "metadata": {},
   "source": [
    "### Comparing Timmings"
   ]
  },
  {
   "cell_type": "code",
   "execution_count": 27,
   "id": "773a3a39",
   "metadata": {},
   "outputs": [
    {
     "name": "stdout",
     "output_type": "stream",
     "text": [
      "Time taken by simulation code: 2.923391399999673\n",
      "Time taken by python pakage: 0.1121911000000182\n"
     ]
    }
   ],
   "source": [
    "a = \"import numpy as np\"\n",
    "b = '''def betam1(a, z):\n",
    "    f= list()\n",
    "    u = np.random.rand(z)\n",
    "    for i in range(0,z):\n",
    "        f.append(u[i]**(1/a))\n",
    "    return(f)\n",
    "\n",
    "#when Alpha=1\n",
    "def betan1(b, z):\n",
    "    f= list()\n",
    "    u = np.random.rand(z)\n",
    "    for i in range(0,z):\n",
    "        f.append(1- u[i]**(1/b))\n",
    "    return(f)\n",
    "\n",
    "#code for generating random numbers following beta distribution when either alpha or beta is 1\n",
    "def beta1(a,b,z):\n",
    "    f= list()\n",
    "    if a ==1 and b != 1:\n",
    "        f = betan1(b,z)\n",
    "        return(f)\n",
    "    if a!=1 and b == 1:\n",
    "        f = betam1(a,z)\n",
    "        return(f)\n",
    "    else:\n",
    "        print(\"Either alpha or beta value should be 1\")\n",
    "        return \n",
    "f = beta1(1,1.5, 5000)'''\n",
    "time = timeit.timeit(setup = a,\n",
    "                     stmt = b,\n",
    "                     number = 1000)\n",
    "print('Time taken by simulation code:', time)\n",
    "\n",
    "#Timming the python pakage\n",
    "a = \"from scipy.stats import beta\"\n",
    "b = '''f = beta.rvs(1,1.5, size=1000) '''\n",
    "time = timeit.timeit(setup = a,\n",
    "                     stmt = b,\n",
    "                     number = 1000)\n",
    "print('Time taken by python pakage:', time)"
   ]
  },
  {
   "cell_type": "code",
   "execution_count": null,
   "id": "54272188",
   "metadata": {},
   "outputs": [],
   "source": []
  },
  {
   "attachments": {},
   "cell_type": "markdown",
   "id": "47b7a849",
   "metadata": {},
   "source": [
    "## Using gamma distribution"
   ]
  },
  {
   "cell_type": "code",
   "execution_count": 1,
   "id": "1ff530b5",
   "metadata": {},
   "outputs": [],
   "source": [
    "from scipy.stats import gamma"
   ]
  },
  {
   "cell_type": "code",
   "execution_count": 4,
   "id": "04da350d",
   "metadata": {},
   "outputs": [
    {
     "data": {
      "image/png": "[encoded data removed]",
      "text/plain": [
       "<Figure size 432x288 with 1 Axes>"
      ]
     },
     "metadata": {
      "needs_background": "light"
     },
     "output_type": "display_data"
    }
   ],
   "source": [
    "y1 = gamma.rvs(1.5, size=50000)\n",
    "y2 = gamma.rvs(1.8, size =50000)\n",
    "x = y1/(y1+y2)\n",
    "plt.hist(x, bins=50)\n",
    "plt.show()"
   ]
  },
  {
   "attachments": {},
   "cell_type": "markdown",
   "id": "46c22b5e",
   "metadata": {},
   "source": [
    "### Comparing timmings"
   ]
  },
  {
   "cell_type": "code",
   "execution_count": 30,
   "id": "28d3487b",
   "metadata": {},
   "outputs": [
    {
     "name": "stdout",
     "output_type": "stream",
     "text": [
      "Time taken by simulation code: 3.6246532999994088\n",
      "Time taken by python pakage: 0.10760910000044532\n"
     ]
    }
   ],
   "source": [
    "a = \"from scipy.stats import gamma\"\n",
    "b = '''y1 = gamma.rvs(1.5, size=50000)\n",
    "y2 = gamma.rvs(1, size =50000)\n",
    "x = y1/(y1+y2)'''\n",
    "time = timeit.timeit(setup = a,\n",
    "                     stmt = b,\n",
    "                     number = 1000)\n",
    "print('Time taken by simulation code:', time)\n",
    "\n",
    "#Timming the python pakage\n",
    "a = \"from scipy.stats import beta\"\n",
    "b = '''f = beta.rvs(1.5,1, size=1000) '''\n",
    "time = timeit.timeit(setup = a,\n",
    "                     stmt = b,\n",
    "                     number = 1000)\n",
    "print('Time taken by python pakage:', time)"
   ]
  },
  {
   "cell_type": "code",
   "execution_count": null,
   "id": "b549fd10",
   "metadata": {},
   "outputs": [],
   "source": []
  }
 ],
 "metadata": {
  "kernelspec": {
   "display_name": "Python 3 (ipykernel)",
   "language": "python",
   "name": "python3"
  },
  "language_info": {
   "codemirror_mode": {
    "name": "ipython",
    "version": 3
   },
   "file_extension": ".py",
   "mimetype": "text/x-python",
   "name": "python",
   "nbconvert_exporter": "python",
   "pygments_lexer": "ipython3",
   "version": "3.9.12"
  }
 },
 "nbformat": 4,
 "nbformat_minor": 5
}
